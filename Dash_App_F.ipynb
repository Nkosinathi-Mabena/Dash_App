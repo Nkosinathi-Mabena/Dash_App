{
  "nbformat": 4,
  "nbformat_minor": 0,
  "metadata": {
    "colab": {
      "provenance": []
    },
    "kernelspec": {
      "name": "python3",
      "display_name": "Python 3"
    },
    "language_info": {
      "name": "python"
    }
  },
  "cells": [
    {
      "cell_type": "code",
      "source": [
        "!pip install dash\n",
        "!pip install dash-bootstrap-components"
      ],
      "metadata": {
        "id": "nt7Gkzb9Lqbf"
      },
      "execution_count": null,
      "outputs": []
    },
    {
      "cell_type": "code",
      "execution_count": 9,
      "metadata": {
        "colab": {
          "base_uri": "https://localhost:8080/",
          "height": 671
        },
        "id": "Tg2cWLQELkhx",
        "outputId": "5ff08995-af97-4ce5-a012-d1dacd48c2c1"
      },
      "outputs": [
        {
          "output_type": "display_data",
          "data": {
            "text/plain": [
              "<IPython.core.display.Javascript object>"
            ],
            "application/javascript": [
              "(async (port, path, width, height, cache, element) => {\n",
              "    if (!google.colab.kernel.accessAllowed && !cache) {\n",
              "      return;\n",
              "    }\n",
              "    element.appendChild(document.createTextNode(''));\n",
              "    const url = await google.colab.kernel.proxyPort(port, {cache});\n",
              "    const iframe = document.createElement('iframe');\n",
              "    iframe.src = new URL(path, url).toString();\n",
              "    iframe.height = height;\n",
              "    iframe.width = width;\n",
              "    iframe.style.border = 0;\n",
              "    iframe.allow = [\n",
              "        'accelerometer',\n",
              "        'autoplay',\n",
              "        'camera',\n",
              "        'clipboard-read',\n",
              "        'clipboard-write',\n",
              "        'gyroscope',\n",
              "        'magnetometer',\n",
              "        'microphone',\n",
              "        'serial',\n",
              "        'usb',\n",
              "        'xr-spatial-tracking',\n",
              "    ].join('; ');\n",
              "    element.appendChild(iframe);\n",
              "  })(8050, \"/\", \"100%\", 650, false, window.element)"
            ]
          },
          "metadata": {}
        }
      ],
      "source": [
        "from dash import dcc, html,Dash\n",
        "from dash.dependencies import Input, Output, State\n",
        "import dash_bootstrap_components as dbc\n",
        "import numpy as np\n",
        "import pickle\n",
        "\n",
        "# initialize the Dash app\n",
        "app = Dash(__name__, external_stylesheets=[dbc.themes.BOOTSTRAP])\n",
        "app.title = 'Machine learning : Loan eligibility predictor'\n",
        "server = app.server\n",
        "\n",
        "# load model\n",
        "with open('/content/eligibility_prediction_model.pkl', 'rb') as file:\n",
        "    model = pickle.load(file)\n",
        "\n",
        "# Webpage content\n",
        "app.layout = html.Div([\n",
        "    dbc.Row([html.H1(\"Loan Eligibility Predictor\")]),\n",
        "    dbc.Row([\n",
        "        dbc.Col(html.Label(children='Applicant Income'), width={\"order\":\"first\"}),\n",
        "        dbc.Col(dcc.Slider(min=100, max=10000000, value=508, id='applicantIncome'))]),\n",
        "    dbc.Row([\n",
        "        dbc.Col(html.Label(children='Credit History'), width={\"order\":\"first\"}),\n",
        "        dbc.Col(dcc.Slider(min=0, max=1, value=0, id='creditHistory'))]),\n",
        "    dbc.Row([\n",
        "        dbc.Col(html.Label(children='Loan Amount'), width={\"order\":\"first\"}),\n",
        "        dbc.Col(dcc.Slider(min=100, max=10000000, value=508, id='Loan-Amount'))]),\n",
        "    dbc.Row([\n",
        "        dbc.Col(html.Label(children='Loan Amount Term'), width={\"order\":\"first\"}),\n",
        "        dbc.Col(dcc.Slider(min=6, max=60, value=508, id='Loan_Amount_Term'))]),\n",
        "    dbc.Row([dbc.Button('Submit', id='submit-val', n_clicks=0, color='primary')]),\n",
        "    html.Br(),\n",
        "    dbc.Row([html.Div(id='prediction-output')]),\n",
        "])\n",
        "\n",
        "# Callback\n",
        "@app.callback(\n",
        "    Output('prediction-output', 'children'),\n",
        "    [Input('submit-val', 'n_clicks')],\n",
        "    [State('applicantIncome', 'value'),\n",
        "     State('creditHistory', 'value'),\n",
        "     State('Loan-Amount', 'value'),\n",
        "     State('Loan_Amount_Term', 'value')]\n",
        ")\n",
        "def update_output(n_clicks, Applicant_income, credit_History, loan_amount, loan_term):\n",
        "    if n_clicks > 0:\n",
        "        # Prepare input features\n",
        "        features = np.array([[Applicant_income, credit_History, loan_amount, loan_term]])\n",
        "        # Apply the model\n",
        "        prediction = model.predict(features)[0]\n",
        "        if prediction == 1:\n",
        "            result = 'Approved'\n",
        "        else:\n",
        "            result = 'Rejected'\n",
        "        return f'Loan Status: {result}'\n",
        "\n",
        "# run the app\n",
        "if __name__ == '__main__':\n",
        "    app.run_server(debug=True)\n"
      ]
    }
  ]
}